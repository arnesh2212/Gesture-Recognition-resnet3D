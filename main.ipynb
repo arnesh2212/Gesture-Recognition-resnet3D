{
 "cells": [
  {
   "cell_type": "code",
   "execution_count": 1,
   "id": "37bfdc40-c24b-480a-a3c6-027d655ff70d",
   "metadata": {
    "tags": []
   },
   "outputs": [],
   "source": [
    "import numpy as np\n",
    "import pandas as pd"
   ]
  },
  {
   "cell_type": "code",
   "execution_count": 2,
   "id": "261c5d59-f624-4eb4-a64f-6ab87415a981",
   "metadata": {
    "tags": []
   },
   "outputs": [],
   "source": [
    "   \n",
    "def get_video_labels( path_subset , mode = 'label'):\n",
    "    if mode == 'input':\n",
    "        names = [\"video_id\"]\n",
    "    elif mode == 'label':\n",
    "        names = [\"video_id\",\"label\"]\n",
    "    df = pd.read_csv(path_subset, sep=\";\" ,names = names)                                       \n",
    "    if mode == 'label':\n",
    "        df = df[df.label.isin(labels)]\n",
    "    return df\n",
    "                                            \n",
    "        "
   ]
  },
  {
   "cell_type": "code",
   "execution_count": 3,
   "id": "e9c31497-3e81-4efb-963a-fdb6cafadae3",
   "metadata": {},
   "outputs": [],
   "source": [
    "data_root = \"/home/arneshbatra2212/Desktop/AI/GestureControl/V2\"\n",
    "csv_labels = \"/home/arneshbatra2212/Desktop/AI/GestureControl/V2/labels.csv\"\n",
    "csv_train = \"/home/arneshbatra2212/Desktop/AI/GestureControl/V2/train.csv\"\n",
    "csv_test = \"/home/arneshbatra2212/Desktop/AI/GestureControl/V2/test.csv\"\n",
    "csv_val = \"/home/arneshbatra2212/Desktop/AI/GestureControl/V2/validation.csv\"\n",
    "data_vid = \"/home/arneshbatra2212/Desktop/DATA/gesture_data/20bn-jester-v1\"\n",
    "\n",
    "\n",
    "labels_df = pd.read_csv(csv_labels , header = None)\n",
    "labels = [str(label[0]) for label in labels_df.values]\n",
    "n_labels = len(labels)\n",
    "#create dictionary\n",
    "labels_to_int = dict(zip(labels,range(n_labels)))\n",
    "int_to_labels = dict(zip(range(n_labels),labels))"
   ]
  },
  {
   "cell_type": "code",
   "execution_count": 4,
   "id": "a650ce05-f72e-46ed-bbb3-c80b5fbaa0ef",
   "metadata": {
    "tags": []
   },
   "outputs": [],
   "source": [
    "\n",
    "train_df = get_video_labels(csv_train)\n",
    "test_df = get_video_labels(csv_test, mode = 'input')\n",
    "val_df = get_video_labels(csv_val )"
   ]
  },
  {
   "cell_type": "code",
   "execution_count": 5,
   "id": "e4aea431-dee6-49e5-9647-7cee14155348",
   "metadata": {
    "tags": []
   },
   "outputs": [],
   "source": [
    "\n",
    "#train_df = train_df.astype('str')\n",
    "#train_df"
   ]
  },
  {
   "cell_type": "code",
   "execution_count": 6,
   "id": "c392c667-cdf7-4cce-9f0d-9c93225c8dff",
   "metadata": {
    "tags": []
   },
   "outputs": [
    {
     "name": "stdout",
     "output_type": "stream",
     "text": [
      "(16, 64, 95, 3)\n"
     ]
    }
   ],
   "source": [
    "model_name = \"resnet_3d_model\"\n",
    "target_size = (64,95)\n",
    "nb_frames = 16\n",
    "skip = 1\n",
    "batch_size = 32\n",
    "input_shape = (nb_frames,) + target_size + (3,)\n",
    "\n",
    "\n",
    "print(input_shape)\n",
    "\n"
   ]
  },
  {
   "cell_type": "code",
   "execution_count": 7,
   "id": "574cbd70-ac1e-457f-af7a-66575b8beeec",
   "metadata": {
    "tags": []
   },
   "outputs": [
    {
     "name": "stderr",
     "output_type": "stream",
     "text": [
      "2023-09-09 22:45:08.721375: I tensorflow/core/util/port.cc:110] oneDNN custom operations are on. You may see slightly different numerical results due to floating-point round-off errors from different computation orders. To turn them off, set the environment variable `TF_ENABLE_ONEDNN_OPTS=0`.\n",
      "2023-09-09 22:45:08.762924: I tensorflow/core/platform/cpu_feature_guard.cc:182] This TensorFlow binary is optimized to use available CPU instructions in performance-critical operations.\n",
      "To enable the following instructions: AVX2 AVX_VNNI FMA, in other operations, rebuild TensorFlow with the appropriate compiler flags.\n",
      "2023-09-09 22:45:09.369328: W tensorflow/compiler/tf2tensorrt/utils/py_utils.cc:38] TF-TRT Warning: Could not find TensorRT\n",
      "/home/arneshbatra2212/miniconda3/envs/tensor/lib/python3.9/site-packages/scipy/__init__.py:146: UserWarning: A NumPy version >=1.17.3 and <1.25.0 is required for this version of SciPy (detected version 1.25.2\n",
      "  warnings.warn(f\"A NumPy version >={np_minversion} and <{np_maxversion}\"\n"
     ]
    }
   ],
   "source": [
    "import tensorflow as tf\n",
    "from image import ImageDataGenerator\n",
    "datagen=ImageDataGenerator(rescale = 1./255)\n"
   ]
  },
  {
   "cell_type": "code",
   "execution_count": 8,
   "id": "750aada6-79a6-47ae-945b-fb167ef2cb69",
   "metadata": {
    "tags": []
   },
   "outputs": [
    {
     "name": "stdout",
     "output_type": "stream",
     "text": [
      "Found 118562 video folders belonging to 27 classes.\n",
      "Found 14787 video folders belonging to 27 classes.\n"
     ]
    }
   ],
   "source": [
    "gen_train = datagen.flow_video_from_dataframe(\n",
    "    train_df,\n",
    "    directory=data_vid,\n",
    "    x_col='video_id',\n",
    "    y_col='label',\n",
    "    target_size=target_size,\n",
    "    path_classes=csv_labels,\n",
    "\n",
    "    batch_size=batch_size,\n",
    "    nb_frames=nb_frames,\n",
    "    skip=skip,\n",
    "    has_ext = True\n",
    "    \n",
    "    \n",
    ")\n",
    "\n",
    "gen_val = datagen.flow_video_from_dataframe(\n",
    "    val_df,\n",
    "    directory=data_vid,\n",
    "    x_col='video_id',\n",
    "    y_col='label',\n",
    "    target_size=target_size,\n",
    "    path_classes=csv_labels,\n",
    "\n",
    "    batch_size=batch_size,\n",
    "    nb_frames=nb_frames,\n",
    "    skip=skip,\n",
    "    has_ext = True\n",
    "    \n",
    "    \n",
    ")"
   ]
  },
  {
   "cell_type": "code",
   "execution_count": 9,
   "id": "3e19b733-df63-48bb-ae44-47edce7367ce",
   "metadata": {},
   "outputs": [],
   "source": [
    "from resnet_model import Resnet3DBuilder"
   ]
  },
  {
   "cell_type": "code",
   "execution_count": 10,
   "id": "42fec2f9-6541-4e46-8bec-3812a54be824",
   "metadata": {},
   "outputs": [
    {
     "name": "stderr",
     "output_type": "stream",
     "text": [
      "2023-09-09 22:45:12.623022: I tensorflow/compiler/xla/stream_executor/cuda/cuda_gpu_executor.cc:995] successful NUMA node read from SysFS had negative value (-1), but there must be at least one NUMA node, so returning NUMA node zero. See more at https://github.com/torvalds/linux/blob/v6.0/Documentation/ABI/testing/sysfs-bus-pci#L344-L355\n",
      "2023-09-09 22:45:12.643504: I tensorflow/compiler/xla/stream_executor/cuda/cuda_gpu_executor.cc:995] successful NUMA node read from SysFS had negative value (-1), but there must be at least one NUMA node, so returning NUMA node zero. See more at https://github.com/torvalds/linux/blob/v6.0/Documentation/ABI/testing/sysfs-bus-pci#L344-L355\n",
      "2023-09-09 22:45:12.643692: I tensorflow/compiler/xla/stream_executor/cuda/cuda_gpu_executor.cc:995] successful NUMA node read from SysFS had negative value (-1), but there must be at least one NUMA node, so returning NUMA node zero. See more at https://github.com/torvalds/linux/blob/v6.0/Documentation/ABI/testing/sysfs-bus-pci#L344-L355\n",
      "2023-09-09 22:45:12.645342: I tensorflow/compiler/xla/stream_executor/cuda/cuda_gpu_executor.cc:995] successful NUMA node read from SysFS had negative value (-1), but there must be at least one NUMA node, so returning NUMA node zero. See more at https://github.com/torvalds/linux/blob/v6.0/Documentation/ABI/testing/sysfs-bus-pci#L344-L355\n",
      "2023-09-09 22:45:12.645514: I tensorflow/compiler/xla/stream_executor/cuda/cuda_gpu_executor.cc:995] successful NUMA node read from SysFS had negative value (-1), but there must be at least one NUMA node, so returning NUMA node zero. See more at https://github.com/torvalds/linux/blob/v6.0/Documentation/ABI/testing/sysfs-bus-pci#L344-L355\n",
      "2023-09-09 22:45:12.645594: I tensorflow/compiler/xla/stream_executor/cuda/cuda_gpu_executor.cc:995] successful NUMA node read from SysFS had negative value (-1), but there must be at least one NUMA node, so returning NUMA node zero. See more at https://github.com/torvalds/linux/blob/v6.0/Documentation/ABI/testing/sysfs-bus-pci#L344-L355\n",
      "2023-09-09 22:45:12.685103: I tensorflow/compiler/xla/stream_executor/cuda/cuda_gpu_executor.cc:995] successful NUMA node read from SysFS had negative value (-1), but there must be at least one NUMA node, so returning NUMA node zero. See more at https://github.com/torvalds/linux/blob/v6.0/Documentation/ABI/testing/sysfs-bus-pci#L344-L355\n",
      "2023-09-09 22:45:12.685252: I tensorflow/compiler/xla/stream_executor/cuda/cuda_gpu_executor.cc:995] successful NUMA node read from SysFS had negative value (-1), but there must be at least one NUMA node, so returning NUMA node zero. See more at https://github.com/torvalds/linux/blob/v6.0/Documentation/ABI/testing/sysfs-bus-pci#L344-L355\n",
      "2023-09-09 22:45:12.685341: I tensorflow/compiler/xla/stream_executor/cuda/cuda_gpu_executor.cc:995] successful NUMA node read from SysFS had negative value (-1), but there must be at least one NUMA node, so returning NUMA node zero. See more at https://github.com/torvalds/linux/blob/v6.0/Documentation/ABI/testing/sysfs-bus-pci#L344-L355\n",
      "2023-09-09 22:45:12.685421: I tensorflow/core/common_runtime/gpu/gpu_device.cc:1639] Created device /job:localhost/replica:0/task:0/device:GPU:0 with 6297 MB memory:  -> device: 0, name: NVIDIA GeForce RTX 4060 Laptop GPU, pci bus id: 0000:01:00.0, compute capability: 8.9\n"
     ]
    }
   ],
   "source": [
    "nb_classes = 27\n",
    "resnet_model = Resnet3DBuilder.build_resnet_101(input_shape , nb_classes , drop_rate=0.5) "
   ]
  },
  {
   "cell_type": "code",
   "execution_count": 11,
   "id": "76743488-017c-4a22-834f-7fee5b170f8f",
   "metadata": {},
   "outputs": [],
   "source": [
    "#summary = resnet_model.summary()"
   ]
  },
  {
   "cell_type": "code",
   "execution_count": 12,
   "id": "df60979c",
   "metadata": {},
   "outputs": [],
   "source": [
    "from tensorflow.keras.optimizers import SGD\n",
    "\n",
    "optimizer = SGD(learning_rate=0.001, momentum=0.9, nesterov=False)\n",
    "resnet_model.compile(loss='categorical_crossentropy', optimizer=optimizer, metrics=['accuracy'])\n",
    "model_file = \"/home/arneshbatra2212/Desktop/AI/GestureControl/V2/resnet_3d_model/resnetmodel.hdf5\""
   ]
  },
  {
   "cell_type": "code",
   "execution_count": 13,
   "id": "c37fba0d-7ae5-4d49-852c-98a1e54754e5",
   "metadata": {
    "tags": []
   },
   "outputs": [],
   "source": [
    "from tensorflow.keras.callbacks import ModelCheckpoint\n",
    "\n",
    "model_checkpoint = ModelCheckpoint(model_file, monitor='val_accuracy', verbose=1, save_best_only=True, mode='max')"
   ]
  },
  {
   "cell_type": "code",
   "execution_count": 14,
   "id": "6d0075c7-0dca-4ebb-b039-a3f123af82cd",
   "metadata": {
    "tags": []
   },
   "outputs": [],
   "source": [
    "#callbacks and graphs\n",
    "import datetime\n",
    "log_dir = \"graphs\" + datetime.datetime.now().strftime(\"%Y%m%d-%H%M%S\")\n",
    "tensorboard_callback = tf.keras.callbacks.TensorBoard(log_dir=log_dir, histogram_freq=1)"
   ]
  },
  {
   "cell_type": "code",
   "execution_count": 15,
   "id": "992487dc-4a1b-4189-b658-936c624efc8d",
   "metadata": {
    "tags": []
   },
   "outputs": [],
   "source": [
    "\n",
    "\n",
    "from math import ceil\n"
   ]
  },
  {
   "cell_type": "code",
   "execution_count": null,
   "id": "1df40a42-9707-44b5-9c1e-cf7b093d0c69",
   "metadata": {
    "tags": []
   },
   "outputs": [
    {
     "name": "stdout",
     "output_type": "stream",
     "text": [
      "Epoch 1/100\n"
     ]
    }
   ],
   "source": [
    "data = resnet_model.fit(\n",
    "    gen_train, steps_per_epoch=ceil(len(train_df.video_id)/batch_size), epochs=100, validation_data=gen_val,\n",
    "    validation_steps=30 ,shuffle=True,  workers = 8 ,use_multiprocessing= False , max_queue_size=20,\n",
    "    verbose=1, callbacks=[model_checkpoint, tensorboard_callback]\n",
    ")"
   ]
  },
  {
   "cell_type": "code",
   "execution_count": null,
   "id": "400026e6-a36a-48e1-bc75-7ebc5232768e",
   "metadata": {},
   "outputs": [],
   "source": []
  }
 ],
 "metadata": {
  "kernelspec": {
   "display_name": "Python 3 (ipykernel)",
   "language": "python",
   "name": "python3"
  },
  "language_info": {
   "codemirror_mode": {
    "name": "ipython",
    "version": 3
   },
   "file_extension": ".py",
   "mimetype": "text/x-python",
   "name": "python",
   "nbconvert_exporter": "python",
   "pygments_lexer": "ipython3",
   "version": "3.9.17"
  }
 },
 "nbformat": 4,
 "nbformat_minor": 5
}
